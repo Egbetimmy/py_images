{
 "cells": [
  {
   "cell_type": "code",
   "execution_count": 2,
   "id": "37a10c5b",
   "metadata": {},
   "outputs": [
    {
     "ename": "ModuleNotFoundError",
     "evalue": "No module named 'torch'",
     "output_type": "error",
     "traceback": [
      "\u001b[1;31m---------------------------------------------------------------------------\u001b[0m",
      "\u001b[1;31mModuleNotFoundError\u001b[0m                       Traceback (most recent call last)",
      "\u001b[1;32mC:\\Users\\BUYPCC~1\\AppData\\Local\\Temp/ipykernel_3308/2510387599.py\u001b[0m in \u001b[0;36m<module>\u001b[1;34m\u001b[0m\n\u001b[1;32m----> 1\u001b[1;33m \u001b[1;32mimport\u001b[0m \u001b[0mtorch\u001b[0m\u001b[1;33m\u001b[0m\u001b[1;33m\u001b[0m\u001b[0m\n\u001b[0m\u001b[0;32m      2\u001b[0m \u001b[1;32mfrom\u001b[0m \u001b[0mPIL\u001b[0m \u001b[1;32mimport\u001b[0m \u001b[0mimage\u001b[0m\u001b[1;33m\u001b[0m\u001b[1;33m\u001b[0m\u001b[0m\n",
      "\u001b[1;31mModuleNotFoundError\u001b[0m: No module named 'torch'"
     ]
    }
   ],
   "source": [
    "import torch\n",
    "from PIL import image"
   ]
  },
  {
   "cell_type": "code",
   "execution_count": 1,
   "id": "507427ef",
   "metadata": {},
   "outputs": [
    {
     "ename": "NameError",
     "evalue": "name 'torch' is not defined",
     "output_type": "error",
     "traceback": [
      "\u001b[1;31m---------------------------------------------------------------------------\u001b[0m",
      "\u001b[1;31mNameError\u001b[0m                                 Traceback (most recent call last)",
      "\u001b[1;32mC:\\Users\\BUYPCC~1\\AppData\\Local\\Temp/ipykernel_3308/1983972731.py\u001b[0m in \u001b[0;36m<module>\u001b[1;34m\u001b[0m\n\u001b[1;32m----> 1\u001b[1;33m \u001b[0mmodel\u001b[0m \u001b[1;33m=\u001b[0m \u001b[0mtorch\u001b[0m\u001b[1;33m.\u001b[0m\u001b[0mhub\u001b[0m\u001b[1;33m.\u001b[0m\u001b[0mload\u001b[0m\u001b[1;33m(\u001b[0m\u001b[1;34m\"bryandlee/animegan2-pytorch\"\u001b[0m\u001b[1;33m,\u001b[0m\u001b[1;34m\"generator\"\u001b[0m\u001b[1;33m)\u001b[0m\u001b[1;33m.\u001b[0m\u001b[0meval\u001b[0m\u001b[1;33m(\u001b[0m\u001b[1;33m)\u001b[0m\u001b[1;33m\u001b[0m\u001b[1;33m\u001b[0m\u001b[0m\n\u001b[0m",
      "\u001b[1;31mNameError\u001b[0m: name 'torch' is not defined"
     ]
    }
   ],
   "source": [
    "model = torch.hub.load(\"bryandlee/animegan2-pytorch\",\"generator\").eval()"
   ]
  },
  {
   "cell_type": "code",
   "execution_count": null,
   "id": "c1034edc",
   "metadata": {},
   "outputs": [],
   "source": [
    "face2paint = torch.hub.load(\"bryandlee/animegan2-pytorch:main\",\"face2paint\", size=512)"
   ]
  },
  {
   "cell_type": "code",
   "execution_count": null,
   "id": "7bb6bc2c",
   "metadata": {},
   "outputs": [],
   "source": [
    "img = image.open('C:/Users/BUYPC COMPUTERS/Documents/Programming/Data/B_M_Koko_31.jpg').convert(\"RGB\")"
   ]
  },
  {
   "cell_type": "code",
   "execution_count": null,
   "id": "af37f10c",
   "metadata": {},
   "outputs": [],
   "source": [
    "out = face2paint(model, img)"
   ]
  },
  {
   "cell_type": "code",
   "execution_count": null,
   "id": "b7994452",
   "metadata": {},
   "outputs": [],
   "source": [
    "rcParams['figure.figsize'] = 11, 8"
   ]
  },
  {
   "cell_type": "code",
   "execution_count": null,
   "id": "df122ce1",
   "metadata": {},
   "outputs": [],
   "source": [
    "fig, ax = plt.subplots(1,2)"
   ]
  },
  {
   "cell_type": "code",
   "execution_count": null,
   "id": "d05d54cf",
   "metadata": {},
   "outputs": [],
   "source": [
    "ax[0].imshow(img)"
   ]
  },
  {
   "cell_type": "code",
   "execution_count": null,
   "id": "f0bf44d0",
   "metadata": {},
   "outputs": [],
   "source": [
    "ax[1].imshow(out)"
   ]
  },
  {
   "cell_type": "code",
   "execution_count": null,
   "id": "95ab822f",
   "metadata": {},
   "outputs": [],
   "source": [
    "plt.show()"
   ]
  },
  {
   "cell_type": "code",
   "execution_count": 3,
   "id": "793d6427",
   "metadata": {},
   "outputs": [],
   "source": [
    "import re"
   ]
  },
  {
   "cell_type": "code",
   "execution_count": 4,
   "id": "a07d47a5",
   "metadata": {},
   "outputs": [
    {
     "data": {
      "text/plain": [
       "'🦕🦕🦕🦕🦕🦕🦕🦕🦕🦕'"
      ]
     },
     "execution_count": 4,
     "metadata": {},
     "output_type": "execute_result"
    }
   ],
   "source": [
    "'\\N{Sauropod}' * 10"
   ]
  },
  {
   "cell_type": "code",
   "execution_count": 6,
   "id": "3aeea74a",
   "metadata": {},
   "outputs": [],
   "source": [
    "from playsound import playsound"
   ]
  },
  {
   "cell_type": "code",
   "execution_count": null,
   "id": "8355d324",
   "metadata": {},
   "outputs": [],
   "source": [
    "playsound(url)"
   ]
  },
  {
   "cell_type": "code",
   "execution_count": 7,
   "id": "3fcefeac",
   "metadata": {},
   "outputs": [
    {
     "ename": "ModuleNotFoundError",
     "evalue": "No module named 'vlc'",
     "output_type": "error",
     "traceback": [
      "\u001b[1;31m---------------------------------------------------------------------------\u001b[0m",
      "\u001b[1;31mModuleNotFoundError\u001b[0m                       Traceback (most recent call last)",
      "\u001b[1;32mC:\\Users\\BUYPCC~1\\AppData\\Local\\Temp/ipykernel_3308/3962154957.py\u001b[0m in \u001b[0;36m<module>\u001b[1;34m\u001b[0m\n\u001b[1;32m----> 1\u001b[1;33m \u001b[1;32mimport\u001b[0m \u001b[0mvlc\u001b[0m\u001b[1;33m\u001b[0m\u001b[1;33m\u001b[0m\u001b[0m\n\u001b[0m",
      "\u001b[1;31mModuleNotFoundError\u001b[0m: No module named 'vlc'"
     ]
    }
   ],
   "source": [
    "import vlc"
   ]
  },
  {
   "cell_type": "code",
   "execution_count": null,
   "id": "c3406756",
   "metadata": {},
   "outputs": [],
   "source": []
  }
 ],
 "metadata": {
  "kernelspec": {
   "display_name": "Python 3 (ipykernel)",
   "language": "python",
   "name": "python3"
  },
  "language_info": {
   "codemirror_mode": {
    "name": "ipython",
    "version": 3
   },
   "file_extension": ".py",
   "mimetype": "text/x-python",
   "name": "python",
   "nbconvert_exporter": "python",
   "pygments_lexer": "ipython3",
   "version": "3.9.7"
  }
 },
 "nbformat": 4,
 "nbformat_minor": 5
}
