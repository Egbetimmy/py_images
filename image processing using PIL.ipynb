{
 "cells": [
  {
   "cell_type": "markdown",
   "id": "8f3bd992",
   "metadata": {},
   "source": [
    "# CONTOUR (SHADING)"
   ]
  },
  {
   "cell_type": "code",
   "execution_count": 8,
   "id": "f3875839",
   "metadata": {},
   "outputs": [],
   "source": [
    "from PIL import Image\n",
    "from PIL import ImageFilter"
   ]
  },
  {
   "cell_type": "code",
   "execution_count": 4,
   "id": "2b15acbf",
   "metadata": {},
   "outputs": [],
   "source": [
    "def contour(input_image, output_image):\n",
    "    image = Image.open(input_image)\n",
    "    filtered_image = image.filter(ImageFilter.CONTOUR)\n",
    "    filtered_image.save(output_image)\n",
    "    \n",
    "if __name__ == \"__main__\":\n",
    "    contour(\"B_M Chownvibe_034.jpg\", \"B_M Chownvibe_034_contoured.jpg\")"
   ]
  },
  {
   "cell_type": "markdown",
   "id": "428695b6",
   "metadata": {},
   "source": [
    "# FIND EDGES"
   ]
  },
  {
   "cell_type": "code",
   "execution_count": 5,
   "id": "7ce143b9",
   "metadata": {},
   "outputs": [],
   "source": [
    "def contour(input_image, output_image):\n",
    "    image = Image.open(input_image)\n",
    "    filtered_image = image.filter(ImageFilter.FIND_EDGES)\n",
    "    filtered_image.save(output_image)\n",
    "    \n",
    "if __name__ == \"__main__\":\n",
    "    contour(\"B_M Chownvibe_051.jpg\", \"B_M Chownvibe_051_contoured.jpg\")"
   ]
  },
  {
   "cell_type": "markdown",
   "id": "dee3efc0",
   "metadata": {},
   "source": [
    "# BLACK AND WHITE"
   ]
  },
  {
   "cell_type": "code",
   "execution_count": 7,
   "id": "0ed127ba",
   "metadata": {},
   "outputs": [],
   "source": [
    "color_image = Image.open(\"B_M Chownvibe_051.jpg\")\n",
    "gray_scale = color_image.convert('1')\n",
    "gray_scale.save(\"B_M Chownvibe_051_gray_scale.jpg\")"
   ]
  },
  {
   "cell_type": "code",
   "execution_count": 10,
   "id": "447a3793",
   "metadata": {},
   "outputs": [],
   "source": [
    "color_image = Image.open(\"B_M Chownvibe_051.jpg\")\n",
    "gray = color_image.convert('L')\n",
    "gray.save(\"B_M Chownvibe_051_gray.jpg\")"
   ]
  },
  {
   "cell_type": "code",
   "execution_count": null,
   "id": "394c914c",
   "metadata": {},
   "outputs": [],
   "source": []
  }
 ],
 "metadata": {
  "kernelspec": {
   "display_name": "Python 3 (ipykernel)",
   "language": "python",
   "name": "python3"
  },
  "language_info": {
   "codemirror_mode": {
    "name": "ipython",
    "version": 3
   },
   "file_extension": ".py",
   "mimetype": "text/x-python",
   "name": "python",
   "nbconvert_exporter": "python",
   "pygments_lexer": "ipython3",
   "version": "3.9.7"
  }
 },
 "nbformat": 4,
 "nbformat_minor": 5
}
